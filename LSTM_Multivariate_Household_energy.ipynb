{
 "cells": [
  {
   "cell_type": "markdown",
   "metadata": {},
   "source": [
    "# Dataset: \n",
    "https://archive.ics.uci.edu/ml/datasets/Individual+household+electric+power+consumption"
   ]
  },
  {
   "cell_type": "code",
   "execution_count": 124,
   "metadata": {},
   "outputs": [],
   "source": [
    "import pandas as pd\n",
    "import matplotlib.pyplot as plt\n",
    "%matplotlib notebook\n",
    "import numpy as np\n",
    "from sklearn.preprocessing import MinMaxScaler\n",
    "from sklearn.metrics import mean_absolute_error, mean_squared_error\n",
    "from keras.models import Sequential\n",
    "from keras.layers import Dense, LSTM, SimpleRNN, Dropout, Flatten, Bidirectional, Activation\n",
    "from collections import Counter"
   ]
  },
  {
   "cell_type": "code",
   "execution_count": 125,
   "metadata": {},
   "outputs": [],
   "source": [
    "df = pd.read_csv(\"household_power_consumption.txt\", delimiter=';', low_memory=False, nrows=100000)"
   ]
  },
  {
   "cell_type": "code",
   "execution_count": 126,
   "metadata": {},
   "outputs": [
    {
     "data": {
      "text/html": [
       "<div>\n",
       "<style scoped>\n",
       "    .dataframe tbody tr th:only-of-type {\n",
       "        vertical-align: middle;\n",
       "    }\n",
       "\n",
       "    .dataframe tbody tr th {\n",
       "        vertical-align: top;\n",
       "    }\n",
       "\n",
       "    .dataframe thead th {\n",
       "        text-align: right;\n",
       "    }\n",
       "</style>\n",
       "<table border=\"1\" class=\"dataframe\">\n",
       "  <thead>\n",
       "    <tr style=\"text-align: right;\">\n",
       "      <th></th>\n",
       "      <th>Date</th>\n",
       "      <th>Time</th>\n",
       "      <th>Global_active_power</th>\n",
       "      <th>Global_reactive_power</th>\n",
       "      <th>Voltage</th>\n",
       "      <th>Global_intensity</th>\n",
       "      <th>Sub_metering_1</th>\n",
       "      <th>Sub_metering_2</th>\n",
       "      <th>Sub_metering_3</th>\n",
       "    </tr>\n",
       "  </thead>\n",
       "  <tbody>\n",
       "    <tr>\n",
       "      <th>0</th>\n",
       "      <td>16/12/2006</td>\n",
       "      <td>17:24:00</td>\n",
       "      <td>4.216</td>\n",
       "      <td>0.418</td>\n",
       "      <td>234.840</td>\n",
       "      <td>18.400</td>\n",
       "      <td>0.000</td>\n",
       "      <td>1.000</td>\n",
       "      <td>17.0</td>\n",
       "    </tr>\n",
       "    <tr>\n",
       "      <th>1</th>\n",
       "      <td>16/12/2006</td>\n",
       "      <td>17:25:00</td>\n",
       "      <td>5.360</td>\n",
       "      <td>0.436</td>\n",
       "      <td>233.630</td>\n",
       "      <td>23.000</td>\n",
       "      <td>0.000</td>\n",
       "      <td>1.000</td>\n",
       "      <td>16.0</td>\n",
       "    </tr>\n",
       "    <tr>\n",
       "      <th>2</th>\n",
       "      <td>16/12/2006</td>\n",
       "      <td>17:26:00</td>\n",
       "      <td>5.374</td>\n",
       "      <td>0.498</td>\n",
       "      <td>233.290</td>\n",
       "      <td>23.000</td>\n",
       "      <td>0.000</td>\n",
       "      <td>2.000</td>\n",
       "      <td>17.0</td>\n",
       "    </tr>\n",
       "    <tr>\n",
       "      <th>3</th>\n",
       "      <td>16/12/2006</td>\n",
       "      <td>17:27:00</td>\n",
       "      <td>5.388</td>\n",
       "      <td>0.502</td>\n",
       "      <td>233.740</td>\n",
       "      <td>23.000</td>\n",
       "      <td>0.000</td>\n",
       "      <td>1.000</td>\n",
       "      <td>17.0</td>\n",
       "    </tr>\n",
       "    <tr>\n",
       "      <th>4</th>\n",
       "      <td>16/12/2006</td>\n",
       "      <td>17:28:00</td>\n",
       "      <td>3.666</td>\n",
       "      <td>0.528</td>\n",
       "      <td>235.680</td>\n",
       "      <td>15.800</td>\n",
       "      <td>0.000</td>\n",
       "      <td>1.000</td>\n",
       "      <td>17.0</td>\n",
       "    </tr>\n",
       "  </tbody>\n",
       "</table>\n",
       "</div>"
      ],
      "text/plain": [
       "         Date      Time Global_active_power Global_reactive_power  Voltage  \\\n",
       "0  16/12/2006  17:24:00               4.216                 0.418  234.840   \n",
       "1  16/12/2006  17:25:00               5.360                 0.436  233.630   \n",
       "2  16/12/2006  17:26:00               5.374                 0.498  233.290   \n",
       "3  16/12/2006  17:27:00               5.388                 0.502  233.740   \n",
       "4  16/12/2006  17:28:00               3.666                 0.528  235.680   \n",
       "\n",
       "  Global_intensity Sub_metering_1 Sub_metering_2  Sub_metering_3  \n",
       "0           18.400          0.000          1.000            17.0  \n",
       "1           23.000          0.000          1.000            16.0  \n",
       "2           23.000          0.000          2.000            17.0  \n",
       "3           23.000          0.000          1.000            17.0  \n",
       "4           15.800          0.000          1.000            17.0  "
      ]
     },
     "execution_count": 126,
     "metadata": {},
     "output_type": "execute_result"
    }
   ],
   "source": [
    "df.head()"
   ]
  },
  {
   "cell_type": "markdown",
   "metadata": {},
   "source": [
    "## Data taken each minute, date not needed"
   ]
  },
  {
   "cell_type": "markdown",
   "metadata": {},
   "source": [
    "### In case date is needed"
   ]
  },
  {
   "cell_type": "code",
   "execution_count": 127,
   "metadata": {},
   "outputs": [],
   "source": [
    "# df['Datetime']=df['Date']+' '+ df['Time']\n",
    "# pd.to_datetime(df.Datetime);\n",
    "# df.set_index('Datetime', inplace=True)"
   ]
  },
  {
   "cell_type": "code",
   "execution_count": 128,
   "metadata": {},
   "outputs": [],
   "source": [
    "df.drop(['Time','Date'], axis=1, inplace=True)"
   ]
  },
  {
   "cell_type": "code",
   "execution_count": 129,
   "metadata": {
    "scrolled": true
   },
   "outputs": [
    {
     "data": {
      "text/html": [
       "<div>\n",
       "<style scoped>\n",
       "    .dataframe tbody tr th:only-of-type {\n",
       "        vertical-align: middle;\n",
       "    }\n",
       "\n",
       "    .dataframe tbody tr th {\n",
       "        vertical-align: top;\n",
       "    }\n",
       "\n",
       "    .dataframe thead th {\n",
       "        text-align: right;\n",
       "    }\n",
       "</style>\n",
       "<table border=\"1\" class=\"dataframe\">\n",
       "  <thead>\n",
       "    <tr style=\"text-align: right;\">\n",
       "      <th></th>\n",
       "      <th>Global_active_power</th>\n",
       "      <th>Global_reactive_power</th>\n",
       "      <th>Voltage</th>\n",
       "      <th>Global_intensity</th>\n",
       "      <th>Sub_metering_1</th>\n",
       "      <th>Sub_metering_2</th>\n",
       "      <th>Sub_metering_3</th>\n",
       "    </tr>\n",
       "  </thead>\n",
       "  <tbody>\n",
       "    <tr>\n",
       "      <th>0</th>\n",
       "      <td>4.216</td>\n",
       "      <td>0.418</td>\n",
       "      <td>234.840</td>\n",
       "      <td>18.400</td>\n",
       "      <td>0.000</td>\n",
       "      <td>1.000</td>\n",
       "      <td>17.0</td>\n",
       "    </tr>\n",
       "    <tr>\n",
       "      <th>1</th>\n",
       "      <td>5.360</td>\n",
       "      <td>0.436</td>\n",
       "      <td>233.630</td>\n",
       "      <td>23.000</td>\n",
       "      <td>0.000</td>\n",
       "      <td>1.000</td>\n",
       "      <td>16.0</td>\n",
       "    </tr>\n",
       "    <tr>\n",
       "      <th>2</th>\n",
       "      <td>5.374</td>\n",
       "      <td>0.498</td>\n",
       "      <td>233.290</td>\n",
       "      <td>23.000</td>\n",
       "      <td>0.000</td>\n",
       "      <td>2.000</td>\n",
       "      <td>17.0</td>\n",
       "    </tr>\n",
       "    <tr>\n",
       "      <th>3</th>\n",
       "      <td>5.388</td>\n",
       "      <td>0.502</td>\n",
       "      <td>233.740</td>\n",
       "      <td>23.000</td>\n",
       "      <td>0.000</td>\n",
       "      <td>1.000</td>\n",
       "      <td>17.0</td>\n",
       "    </tr>\n",
       "    <tr>\n",
       "      <th>4</th>\n",
       "      <td>3.666</td>\n",
       "      <td>0.528</td>\n",
       "      <td>235.680</td>\n",
       "      <td>15.800</td>\n",
       "      <td>0.000</td>\n",
       "      <td>1.000</td>\n",
       "      <td>17.0</td>\n",
       "    </tr>\n",
       "  </tbody>\n",
       "</table>\n",
       "</div>"
      ],
      "text/plain": [
       "  Global_active_power Global_reactive_power  Voltage Global_intensity  \\\n",
       "0               4.216                 0.418  234.840           18.400   \n",
       "1               5.360                 0.436  233.630           23.000   \n",
       "2               5.374                 0.498  233.290           23.000   \n",
       "3               5.388                 0.502  233.740           23.000   \n",
       "4               3.666                 0.528  235.680           15.800   \n",
       "\n",
       "  Sub_metering_1 Sub_metering_2  Sub_metering_3  \n",
       "0          0.000          1.000            17.0  \n",
       "1          0.000          1.000            16.0  \n",
       "2          0.000          2.000            17.0  \n",
       "3          0.000          1.000            17.0  \n",
       "4          0.000          1.000            17.0  "
      ]
     },
     "execution_count": 129,
     "metadata": {},
     "output_type": "execute_result"
    }
   ],
   "source": [
    "df.head()"
   ]
  },
  {
   "cell_type": "markdown",
   "metadata": {},
   "source": [
    "## Check for nan "
   ]
  },
  {
   "cell_type": "code",
   "execution_count": 130,
   "metadata": {},
   "outputs": [
    {
     "data": {
      "text/plain": [
       "Global_active_power      0\n",
       "Global_reactive_power    0\n",
       "Voltage                  0\n",
       "Global_intensity         0\n",
       "Sub_metering_1           0\n",
       "Sub_metering_2           0\n",
       "Sub_metering_3           8\n",
       "dtype: int64"
      ]
     },
     "execution_count": 130,
     "metadata": {},
     "output_type": "execute_result"
    }
   ],
   "source": [
    "df.isnull().sum()"
   ]
  },
  {
   "cell_type": "markdown",
   "metadata": {},
   "source": [
    "## For training purposes ,  rows with nan values are deleted"
   ]
  },
  {
   "cell_type": "code",
   "execution_count": 131,
   "metadata": {},
   "outputs": [],
   "source": [
    "df.dropna(axis=0,how='any', inplace=True)"
   ]
  },
  {
   "cell_type": "code",
   "execution_count": 132,
   "metadata": {},
   "outputs": [
    {
     "data": {
      "text/plain": [
       "Global_active_power      0\n",
       "Global_reactive_power    0\n",
       "Voltage                  0\n",
       "Global_intensity         0\n",
       "Sub_metering_1           0\n",
       "Sub_metering_2           0\n",
       "Sub_metering_3           0\n",
       "dtype: int64"
      ]
     },
     "execution_count": 132,
     "metadata": {},
     "output_type": "execute_result"
    }
   ],
   "source": [
    "df.isnull().sum()"
   ]
  },
  {
   "cell_type": "code",
   "execution_count": 133,
   "metadata": {},
   "outputs": [],
   "source": [
    "# df = df[['Global_reactive_power','Voltage','Global_intensity',\n",
    "#          'Sub_metering_1','Sub_metering_2','Sub_metering_3','Global_active_power']]"
   ]
  },
  {
   "cell_type": "code",
   "execution_count": 134,
   "metadata": {},
   "outputs": [
    {
     "data": {
      "text/html": [
       "<div>\n",
       "<style scoped>\n",
       "    .dataframe tbody tr th:only-of-type {\n",
       "        vertical-align: middle;\n",
       "    }\n",
       "\n",
       "    .dataframe tbody tr th {\n",
       "        vertical-align: top;\n",
       "    }\n",
       "\n",
       "    .dataframe thead th {\n",
       "        text-align: right;\n",
       "    }\n",
       "</style>\n",
       "<table border=\"1\" class=\"dataframe\">\n",
       "  <thead>\n",
       "    <tr style=\"text-align: right;\">\n",
       "      <th></th>\n",
       "      <th>Global_active_power</th>\n",
       "      <th>Global_reactive_power</th>\n",
       "      <th>Voltage</th>\n",
       "      <th>Global_intensity</th>\n",
       "      <th>Sub_metering_1</th>\n",
       "      <th>Sub_metering_2</th>\n",
       "      <th>Sub_metering_3</th>\n",
       "    </tr>\n",
       "  </thead>\n",
       "  <tbody>\n",
       "    <tr>\n",
       "      <th>0</th>\n",
       "      <td>4.216</td>\n",
       "      <td>0.418</td>\n",
       "      <td>234.840</td>\n",
       "      <td>18.400</td>\n",
       "      <td>0.000</td>\n",
       "      <td>1.000</td>\n",
       "      <td>17.0</td>\n",
       "    </tr>\n",
       "    <tr>\n",
       "      <th>1</th>\n",
       "      <td>5.360</td>\n",
       "      <td>0.436</td>\n",
       "      <td>233.630</td>\n",
       "      <td>23.000</td>\n",
       "      <td>0.000</td>\n",
       "      <td>1.000</td>\n",
       "      <td>16.0</td>\n",
       "    </tr>\n",
       "    <tr>\n",
       "      <th>2</th>\n",
       "      <td>5.374</td>\n",
       "      <td>0.498</td>\n",
       "      <td>233.290</td>\n",
       "      <td>23.000</td>\n",
       "      <td>0.000</td>\n",
       "      <td>2.000</td>\n",
       "      <td>17.0</td>\n",
       "    </tr>\n",
       "    <tr>\n",
       "      <th>3</th>\n",
       "      <td>5.388</td>\n",
       "      <td>0.502</td>\n",
       "      <td>233.740</td>\n",
       "      <td>23.000</td>\n",
       "      <td>0.000</td>\n",
       "      <td>1.000</td>\n",
       "      <td>17.0</td>\n",
       "    </tr>\n",
       "    <tr>\n",
       "      <th>4</th>\n",
       "      <td>3.666</td>\n",
       "      <td>0.528</td>\n",
       "      <td>235.680</td>\n",
       "      <td>15.800</td>\n",
       "      <td>0.000</td>\n",
       "      <td>1.000</td>\n",
       "      <td>17.0</td>\n",
       "    </tr>\n",
       "  </tbody>\n",
       "</table>\n",
       "</div>"
      ],
      "text/plain": [
       "  Global_active_power Global_reactive_power  Voltage Global_intensity  \\\n",
       "0               4.216                 0.418  234.840           18.400   \n",
       "1               5.360                 0.436  233.630           23.000   \n",
       "2               5.374                 0.498  233.290           23.000   \n",
       "3               5.388                 0.502  233.740           23.000   \n",
       "4               3.666                 0.528  235.680           15.800   \n",
       "\n",
       "  Sub_metering_1 Sub_metering_2  Sub_metering_3  \n",
       "0          0.000          1.000            17.0  \n",
       "1          0.000          1.000            16.0  \n",
       "2          0.000          2.000            17.0  \n",
       "3          0.000          1.000            17.0  \n",
       "4          0.000          1.000            17.0  "
      ]
     },
     "execution_count": 134,
     "metadata": {},
     "output_type": "execute_result"
    }
   ],
   "source": [
    "df.head()"
   ]
  },
  {
   "cell_type": "markdown",
   "metadata": {},
   "source": [
    "## Check data type and convert"
   ]
  },
  {
   "cell_type": "code",
   "execution_count": 135,
   "metadata": {},
   "outputs": [
    {
     "data": {
      "text/plain": [
       "Global_active_power       object\n",
       "Global_reactive_power     object\n",
       "Voltage                   object\n",
       "Global_intensity          object\n",
       "Sub_metering_1            object\n",
       "Sub_metering_2            object\n",
       "Sub_metering_3           float64\n",
       "dtype: object"
      ]
     },
     "execution_count": 135,
     "metadata": {},
     "output_type": "execute_result"
    }
   ],
   "source": [
    "df.dtypes"
   ]
  },
  {
   "cell_type": "code",
   "execution_count": 136,
   "metadata": {},
   "outputs": [],
   "source": [
    "# df.reset_index(drop=True, inplace=True)"
   ]
  },
  {
   "cell_type": "code",
   "execution_count": 137,
   "metadata": {},
   "outputs": [],
   "source": [
    "df = df.astype('float64') "
   ]
  },
  {
   "cell_type": "code",
   "execution_count": 138,
   "metadata": {
    "scrolled": true
   },
   "outputs": [
    {
     "data": {
      "text/html": [
       "<div>\n",
       "<style scoped>\n",
       "    .dataframe tbody tr th:only-of-type {\n",
       "        vertical-align: middle;\n",
       "    }\n",
       "\n",
       "    .dataframe tbody tr th {\n",
       "        vertical-align: top;\n",
       "    }\n",
       "\n",
       "    .dataframe thead th {\n",
       "        text-align: right;\n",
       "    }\n",
       "</style>\n",
       "<table border=\"1\" class=\"dataframe\">\n",
       "  <thead>\n",
       "    <tr style=\"text-align: right;\">\n",
       "      <th></th>\n",
       "      <th>Global_active_power</th>\n",
       "      <th>Global_reactive_power</th>\n",
       "      <th>Voltage</th>\n",
       "      <th>Global_intensity</th>\n",
       "      <th>Sub_metering_1</th>\n",
       "      <th>Sub_metering_2</th>\n",
       "      <th>Sub_metering_3</th>\n",
       "    </tr>\n",
       "  </thead>\n",
       "  <tbody>\n",
       "    <tr>\n",
       "      <th>Global_active_power</th>\n",
       "      <td>1.000000</td>\n",
       "      <td>0.247314</td>\n",
       "      <td>-0.633190</td>\n",
       "      <td>0.998928</td>\n",
       "      <td>0.418881</td>\n",
       "      <td>0.430774</td>\n",
       "      <td>0.544368</td>\n",
       "    </tr>\n",
       "    <tr>\n",
       "      <th>Global_reactive_power</th>\n",
       "      <td>0.247314</td>\n",
       "      <td>1.000000</td>\n",
       "      <td>-0.160869</td>\n",
       "      <td>0.258904</td>\n",
       "      <td>0.109491</td>\n",
       "      <td>0.172522</td>\n",
       "      <td>0.091150</td>\n",
       "    </tr>\n",
       "    <tr>\n",
       "      <th>Voltage</th>\n",
       "      <td>-0.633190</td>\n",
       "      <td>-0.160869</td>\n",
       "      <td>1.000000</td>\n",
       "      <td>-0.639747</td>\n",
       "      <td>-0.239636</td>\n",
       "      <td>-0.218631</td>\n",
       "      <td>-0.420529</td>\n",
       "    </tr>\n",
       "    <tr>\n",
       "      <th>Global_intensity</th>\n",
       "      <td>0.998928</td>\n",
       "      <td>0.258904</td>\n",
       "      <td>-0.639747</td>\n",
       "      <td>1.000000</td>\n",
       "      <td>0.422960</td>\n",
       "      <td>0.436023</td>\n",
       "      <td>0.534891</td>\n",
       "    </tr>\n",
       "    <tr>\n",
       "      <th>Sub_metering_1</th>\n",
       "      <td>0.418881</td>\n",
       "      <td>0.109491</td>\n",
       "      <td>-0.239636</td>\n",
       "      <td>0.422960</td>\n",
       "      <td>1.000000</td>\n",
       "      <td>0.062960</td>\n",
       "      <td>0.116243</td>\n",
       "    </tr>\n",
       "    <tr>\n",
       "      <th>Sub_metering_2</th>\n",
       "      <td>0.430774</td>\n",
       "      <td>0.172522</td>\n",
       "      <td>-0.218631</td>\n",
       "      <td>0.436023</td>\n",
       "      <td>0.062960</td>\n",
       "      <td>1.000000</td>\n",
       "      <td>0.118911</td>\n",
       "    </tr>\n",
       "    <tr>\n",
       "      <th>Sub_metering_3</th>\n",
       "      <td>0.544368</td>\n",
       "      <td>0.091150</td>\n",
       "      <td>-0.420529</td>\n",
       "      <td>0.534891</td>\n",
       "      <td>0.116243</td>\n",
       "      <td>0.118911</td>\n",
       "      <td>1.000000</td>\n",
       "    </tr>\n",
       "  </tbody>\n",
       "</table>\n",
       "</div>"
      ],
      "text/plain": [
       "                       Global_active_power  Global_reactive_power   Voltage  \\\n",
       "Global_active_power               1.000000               0.247314 -0.633190   \n",
       "Global_reactive_power             0.247314               1.000000 -0.160869   \n",
       "Voltage                          -0.633190              -0.160869  1.000000   \n",
       "Global_intensity                  0.998928               0.258904 -0.639747   \n",
       "Sub_metering_1                    0.418881               0.109491 -0.239636   \n",
       "Sub_metering_2                    0.430774               0.172522 -0.218631   \n",
       "Sub_metering_3                    0.544368               0.091150 -0.420529   \n",
       "\n",
       "                       Global_intensity  Sub_metering_1  Sub_metering_2  \\\n",
       "Global_active_power            0.998928        0.418881        0.430774   \n",
       "Global_reactive_power          0.258904        0.109491        0.172522   \n",
       "Voltage                       -0.639747       -0.239636       -0.218631   \n",
       "Global_intensity               1.000000        0.422960        0.436023   \n",
       "Sub_metering_1                 0.422960        1.000000        0.062960   \n",
       "Sub_metering_2                 0.436023        0.062960        1.000000   \n",
       "Sub_metering_3                 0.534891        0.116243        0.118911   \n",
       "\n",
       "                       Sub_metering_3  \n",
       "Global_active_power          0.544368  \n",
       "Global_reactive_power        0.091150  \n",
       "Voltage                     -0.420529  \n",
       "Global_intensity             0.534891  \n",
       "Sub_metering_1               0.116243  \n",
       "Sub_metering_2               0.118911  \n",
       "Sub_metering_3               1.000000  "
      ]
     },
     "execution_count": 138,
     "metadata": {},
     "output_type": "execute_result"
    }
   ],
   "source": [
    "df.corr()"
   ]
  },
  {
   "cell_type": "markdown",
   "metadata": {},
   "source": [
    "## Column \"Global_intensity\" 0,998 Linear relationship with the output \"Global_active_power\", for training purposes this column isnt droped"
   ]
  },
  {
   "cell_type": "markdown",
   "metadata": {},
   "source": [
    "## Data split (train, target)"
   ]
  },
  {
   "cell_type": "code",
   "execution_count": 139,
   "metadata": {},
   "outputs": [],
   "source": [
    "train = df[['Global_reactive_power','Voltage','Global_intensity',\n",
    "            'Sub_metering_1','Sub_metering_2','Sub_metering_3']].copy(deep=True)"
   ]
  },
  {
   "cell_type": "code",
   "execution_count": 140,
   "metadata": {},
   "outputs": [],
   "source": [
    "test = df['Global_active_power'].copy(deep=True)"
   ]
  },
  {
   "cell_type": "code",
   "execution_count": 141,
   "metadata": {},
   "outputs": [
    {
     "data": {
      "text/plain": [
       "Global_reactive_power    float64\n",
       "Voltage                  float64\n",
       "Global_intensity         float64\n",
       "Sub_metering_1           float64\n",
       "Sub_metering_2           float64\n",
       "Sub_metering_3           float64\n",
       "dtype: object"
      ]
     },
     "execution_count": 141,
     "metadata": {},
     "output_type": "execute_result"
    }
   ],
   "source": [
    "train.dtypes"
   ]
  },
  {
   "cell_type": "code",
   "execution_count": 142,
   "metadata": {},
   "outputs": [
    {
     "data": {
      "text/plain": [
       "Global_reactive_power    0\n",
       "Voltage                  0\n",
       "Global_intensity         0\n",
       "Sub_metering_1           0\n",
       "Sub_metering_2           0\n",
       "Sub_metering_3           0\n",
       "dtype: int64"
      ]
     },
     "execution_count": 142,
     "metadata": {},
     "output_type": "execute_result"
    }
   ],
   "source": [
    "train.isnull().sum()"
   ]
  },
  {
   "cell_type": "code",
   "execution_count": 143,
   "metadata": {},
   "outputs": [
    {
     "data": {
      "text/html": [
       "<div>\n",
       "<style scoped>\n",
       "    .dataframe tbody tr th:only-of-type {\n",
       "        vertical-align: middle;\n",
       "    }\n",
       "\n",
       "    .dataframe tbody tr th {\n",
       "        vertical-align: top;\n",
       "    }\n",
       "\n",
       "    .dataframe thead th {\n",
       "        text-align: right;\n",
       "    }\n",
       "</style>\n",
       "<table border=\"1\" class=\"dataframe\">\n",
       "  <thead>\n",
       "    <tr style=\"text-align: right;\">\n",
       "      <th></th>\n",
       "      <th>Global_reactive_power</th>\n",
       "      <th>Voltage</th>\n",
       "      <th>Global_intensity</th>\n",
       "      <th>Sub_metering_1</th>\n",
       "      <th>Sub_metering_2</th>\n",
       "      <th>Sub_metering_3</th>\n",
       "    </tr>\n",
       "  </thead>\n",
       "  <tbody>\n",
       "    <tr>\n",
       "      <th>0</th>\n",
       "      <td>0.418</td>\n",
       "      <td>234.84</td>\n",
       "      <td>18.4</td>\n",
       "      <td>0.0</td>\n",
       "      <td>1.0</td>\n",
       "      <td>17.0</td>\n",
       "    </tr>\n",
       "    <tr>\n",
       "      <th>1</th>\n",
       "      <td>0.436</td>\n",
       "      <td>233.63</td>\n",
       "      <td>23.0</td>\n",
       "      <td>0.0</td>\n",
       "      <td>1.0</td>\n",
       "      <td>16.0</td>\n",
       "    </tr>\n",
       "    <tr>\n",
       "      <th>2</th>\n",
       "      <td>0.498</td>\n",
       "      <td>233.29</td>\n",
       "      <td>23.0</td>\n",
       "      <td>0.0</td>\n",
       "      <td>2.0</td>\n",
       "      <td>17.0</td>\n",
       "    </tr>\n",
       "    <tr>\n",
       "      <th>3</th>\n",
       "      <td>0.502</td>\n",
       "      <td>233.74</td>\n",
       "      <td>23.0</td>\n",
       "      <td>0.0</td>\n",
       "      <td>1.0</td>\n",
       "      <td>17.0</td>\n",
       "    </tr>\n",
       "    <tr>\n",
       "      <th>4</th>\n",
       "      <td>0.528</td>\n",
       "      <td>235.68</td>\n",
       "      <td>15.8</td>\n",
       "      <td>0.0</td>\n",
       "      <td>1.0</td>\n",
       "      <td>17.0</td>\n",
       "    </tr>\n",
       "  </tbody>\n",
       "</table>\n",
       "</div>"
      ],
      "text/plain": [
       "   Global_reactive_power  Voltage  Global_intensity  Sub_metering_1  \\\n",
       "0                  0.418   234.84              18.4             0.0   \n",
       "1                  0.436   233.63              23.0             0.0   \n",
       "2                  0.498   233.29              23.0             0.0   \n",
       "3                  0.502   233.74              23.0             0.0   \n",
       "4                  0.528   235.68              15.8             0.0   \n",
       "\n",
       "   Sub_metering_2  Sub_metering_3  \n",
       "0             1.0            17.0  \n",
       "1             1.0            16.0  \n",
       "2             2.0            17.0  \n",
       "3             1.0            17.0  \n",
       "4             1.0            17.0  "
      ]
     },
     "execution_count": 143,
     "metadata": {},
     "output_type": "execute_result"
    }
   ],
   "source": [
    "train.head()"
   ]
  },
  {
   "cell_type": "code",
   "execution_count": 144,
   "metadata": {},
   "outputs": [
    {
     "data": {
      "text/plain": [
       "(99992, 6)"
      ]
     },
     "execution_count": 144,
     "metadata": {},
     "output_type": "execute_result"
    }
   ],
   "source": [
    "train.shape"
   ]
  },
  {
   "cell_type": "code",
   "execution_count": 145,
   "metadata": {},
   "outputs": [
    {
     "data": {
      "text/plain": [
       "(99992,)"
      ]
     },
     "execution_count": 145,
     "metadata": {},
     "output_type": "execute_result"
    }
   ],
   "source": [
    "test.shape"
   ]
  },
  {
   "cell_type": "markdown",
   "metadata": {},
   "source": [
    "## Data split for training and for eval"
   ]
  },
  {
   "cell_type": "code",
   "execution_count": 147,
   "metadata": {},
   "outputs": [],
   "source": [
    "x_train_data = train.head(89992)\n",
    "y_train_data = test.head(89992)\n",
    "\n",
    "x_test_data=train.tail(10000)\n",
    "y_test_data=test.tail(10000)\n",
    "\n",
    "# x_train_data = train.head(8998)\n",
    "# y_train_data = test.head(8998)\n",
    "\n",
    "# x_test_data=train.tail(1000)\n",
    "# y_test_data=test.tail(1000)"
   ]
  },
  {
   "cell_type": "code",
   "execution_count": 148,
   "metadata": {},
   "outputs": [
    {
     "data": {
      "text/plain": [
       "(89992, 6)"
      ]
     },
     "execution_count": 148,
     "metadata": {},
     "output_type": "execute_result"
    }
   ],
   "source": [
    "x_train_data.shape"
   ]
  },
  {
   "cell_type": "code",
   "execution_count": 149,
   "metadata": {},
   "outputs": [
    {
     "data": {
      "text/plain": [
       "(89992,)"
      ]
     },
     "execution_count": 149,
     "metadata": {},
     "output_type": "execute_result"
    }
   ],
   "source": [
    "y_train_data.shape"
   ]
  },
  {
   "cell_type": "code",
   "execution_count": 150,
   "metadata": {},
   "outputs": [
    {
     "data": {
      "text/plain": [
       "(10000, 6)"
      ]
     },
     "execution_count": 150,
     "metadata": {},
     "output_type": "execute_result"
    }
   ],
   "source": [
    "x_test_data.shape"
   ]
  },
  {
   "cell_type": "code",
   "execution_count": 151,
   "metadata": {},
   "outputs": [
    {
     "data": {
      "text/plain": [
       "(10000,)"
      ]
     },
     "execution_count": 151,
     "metadata": {},
     "output_type": "execute_result"
    }
   ],
   "source": [
    "y_test_data.shape"
   ]
  },
  {
   "cell_type": "code",
   "execution_count": 152,
   "metadata": {},
   "outputs": [
    {
     "data": {
      "text/plain": [
       "89992"
      ]
     },
     "execution_count": 152,
     "metadata": {},
     "output_type": "execute_result"
    }
   ],
   "source": [
    "x_train_data.shape[0]"
   ]
  },
  {
   "cell_type": "markdown",
   "metadata": {},
   "source": [
    "## Numpy array conversion and data normalization"
   ]
  },
  {
   "cell_type": "code",
   "execution_count": 153,
   "metadata": {},
   "outputs": [],
   "source": [
    "x_train_data=np.array(x_train_data)\n",
    "x_train_data=x_train_data.reshape(x_train_data.shape[0],6)\n",
    "\n",
    "x_test_data=np.array(x_test_data)\n",
    "x_test_data=x_test_data.reshape(x_test_data.shape[0],6)"
   ]
  },
  {
   "cell_type": "code",
   "execution_count": 154,
   "metadata": {},
   "outputs": [],
   "source": [
    "y_train_data=np.array(y_train_data)\n",
    "y_train_data=y_train_data.reshape(y_train_data.shape[0],-1)\n",
    "\n",
    "y_test_data=np.array(y_test_data)\n",
    "y_test_data=y_test_data.reshape(y_test_data.shape[0],-1)"
   ]
  },
  {
   "cell_type": "code",
   "execution_count": 155,
   "metadata": {},
   "outputs": [
    {
     "data": {
      "text/plain": [
       "MinMaxScaler(copy=True, feature_range=(0, 1))"
      ]
     },
     "execution_count": 155,
     "metadata": {},
     "output_type": "execute_result"
    }
   ],
   "source": [
    "x_scaler=MinMaxScaler(feature_range=(0,1))\n",
    "# x_train_scaled=scaler.fit(x_train_data)\n",
    "x_scaler.fit(x_train_data)"
   ]
  },
  {
   "cell_type": "code",
   "execution_count": 156,
   "metadata": {},
   "outputs": [],
   "source": [
    "x_train_scaled = x_scaler.transform(x_train_data)\n",
    "x_test_scaled = x_scaler.transform(x_test_data)"
   ]
  },
  {
   "cell_type": "code",
   "execution_count": 157,
   "metadata": {},
   "outputs": [],
   "source": [
    "# y_scaler=MinMaxScaler(feature_range=(0,1))\n",
    "# y_scaler.fit(y_train_data)"
   ]
  },
  {
   "cell_type": "code",
   "execution_count": 158,
   "metadata": {},
   "outputs": [],
   "source": [
    "# y_train_scaled = y_scaler.transform(y_train_data)\n",
    "# y_test_scaled = y_scaler.transform(y_test_data)"
   ]
  },
  {
   "cell_type": "code",
   "execution_count": 159,
   "metadata": {},
   "outputs": [
    {
     "data": {
      "text/plain": [
       "(89992, 6)"
      ]
     },
     "execution_count": 159,
     "metadata": {},
     "output_type": "execute_result"
    }
   ],
   "source": [
    "x_train_scaled.shape"
   ]
  },
  {
   "cell_type": "code",
   "execution_count": 160,
   "metadata": {},
   "outputs": [
    {
     "data": {
      "text/plain": [
       "(10000, 6)"
      ]
     },
     "execution_count": 160,
     "metadata": {},
     "output_type": "execute_result"
    }
   ],
   "source": [
    "x_test_scaled.shape"
   ]
  },
  {
   "cell_type": "markdown",
   "metadata": {},
   "source": [
    "## Prepare data , to predict the next day"
   ]
  },
  {
   "cell_type": "code",
   "execution_count": 161,
   "metadata": {},
   "outputs": [
    {
     "name": "stdout",
     "output_type": "stream",
     "text": [
      "x_test shape=  (8560, 240, 6)\n",
      "y_test shape=  (8560,)\n"
     ]
    }
   ],
   "source": [
    "timestep=1440 # minutes\n",
    "x_test=[]\n",
    "y_test=[]\n",
    "\n",
    "\n",
    "for i in range(timestep,x_test_scaled.shape[0]):\n",
    "    x_test.append(x_test_scaled[i-timestep:i:6])\n",
    "    y_test.append(y_test_data[i,-1])\n",
    "\n",
    "x_test,y_test=np.array(x_test),np.array(y_test)\n",
    "x_test=x_test.reshape(x_test.shape[0],x_test.shape[1],6) #reshaped for RNN\n",
    "print(\"x_test shape= \",x_test.shape)\n",
    "print(\"y_test shape= \",y_test.shape)"
   ]
  },
  {
   "cell_type": "code",
   "execution_count": 162,
   "metadata": {},
   "outputs": [
    {
     "name": "stdout",
     "output_type": "stream",
     "text": [
      "x_train shape=  (88552, 240, 6)\n",
      "y_train shape=  (88552,)\n"
     ]
    }
   ],
   "source": [
    "timestep=1440\n",
    "x_train=[]\n",
    "y_train=[]\n",
    "\n",
    "\n",
    "for i in range(timestep,x_train_scaled.shape[0]):\n",
    "    x_train.append(x_train_scaled[i-timestep:i:6])\n",
    "    y_train.append(y_train_data[i,-1])\n",
    "\n",
    "x_train,y_train=np.array(x_train),np.array(y_train)\n",
    "x_train=x_train.reshape(x_train.shape[0],x_train.shape[1],6) #reshaped for RNN\n",
    "print(\"x_train shape= \",x_train.shape)\n",
    "print(\"y_train shape= \",y_train.shape)"
   ]
  },
  {
   "cell_type": "markdown",
   "metadata": {},
   "source": [
    "## Define model and train"
   ]
  },
  {
   "cell_type": "code",
   "execution_count": 173,
   "metadata": {},
   "outputs": [],
   "source": [
    "model = Sequential()\n",
    "model.add(Bidirectional(SimpleRNN(64, return_sequences=True), input_shape=(x_train.shape[1],6)))\n",
    "model.add(Dropout(0.25))\n",
    "model.add(Activation('relu'))\n",
    "\n",
    "model.add(Flatten())\n",
    "model.add(Dense(1, activation='linear'))\n",
    "model.compile(loss='mean_squared_error', optimizer='adam')"
   ]
  },
  {
   "cell_type": "code",
   "execution_count": 165,
   "metadata": {},
   "outputs": [],
   "source": [
    "# train.head(5)"
   ]
  },
  {
   "cell_type": "code",
   "execution_count": 166,
   "metadata": {},
   "outputs": [],
   "source": [
    "# test.head(5)"
   ]
  },
  {
   "cell_type": "code",
   "execution_count": 167,
   "metadata": {},
   "outputs": [],
   "source": [
    "# y_train"
   ]
  },
  {
   "cell_type": "code",
   "execution_count": 168,
   "metadata": {},
   "outputs": [],
   "source": [
    "# y_train_data[1-1,-1]"
   ]
  },
  {
   "cell_type": "code",
   "execution_count": 174,
   "metadata": {
    "scrolled": true
   },
   "outputs": [
    {
     "name": "stdout",
     "output_type": "stream",
     "text": [
      "Epoch 1/1\n",
      "88552/88552 [==============================] - 256s 3ms/step - loss: 0.4763\n"
     ]
    },
    {
     "data": {
      "text/plain": [
       "<keras.callbacks.History at 0x19d837fc630>"
      ]
     },
     "execution_count": 174,
     "metadata": {},
     "output_type": "execute_result"
    }
   ],
   "source": [
    "model.fit(x_train,y_train,epochs=1,batch_size=32)"
   ]
  },
  {
   "cell_type": "markdown",
   "metadata": {},
   "source": [
    "## Prediction on x_test data"
   ]
  },
  {
   "cell_type": "code",
   "execution_count": 74,
   "metadata": {},
   "outputs": [],
   "source": [
    "predict=model.predict(x_test)"
   ]
  },
  {
   "cell_type": "code",
   "execution_count": 75,
   "metadata": {},
   "outputs": [
    {
     "data": {
      "text/plain": [
       "array([[0.7691372 ],\n",
       "       [0.8351419 ],\n",
       "       [0.7852919 ],\n",
       "       [0.7967359 ],\n",
       "       [0.83620185],\n",
       "       [0.7984437 ],\n",
       "       [0.7915118 ],\n",
       "       [0.7797152 ],\n",
       "       [0.6882216 ],\n",
       "       [0.71397614],\n",
       "       [0.7129646 ],\n",
       "       [0.6680757 ],\n",
       "       [0.62270534],\n",
       "       [0.66184825],\n",
       "       [0.62065256],\n",
       "       [0.60462403],\n",
       "       [0.6536512 ],\n",
       "       [0.5926772 ],\n",
       "       [0.55173653],\n",
       "       [0.6249641 ]], dtype=float32)"
      ]
     },
     "execution_count": 75,
     "metadata": {},
     "output_type": "execute_result"
    }
   ],
   "source": [
    "predict[:20]"
   ]
  },
  {
   "cell_type": "code",
   "execution_count": 76,
   "metadata": {},
   "outputs": [
    {
     "data": {
      "text/plain": [
       "array([0.392, 0.392, 0.35 , 0.324, 0.322, 0.322, 0.308, 0.23 , 0.228,\n",
       "       0.23 , 0.23 , 0.228, 0.23 , 0.232, 0.23 , 0.23 , 0.23 , 0.228,\n",
       "       0.23 , 0.23 ])"
      ]
     },
     "execution_count": 76,
     "metadata": {},
     "output_type": "execute_result"
    }
   ],
   "source": [
    "y_test[:20]"
   ]
  },
  {
   "cell_type": "code",
   "execution_count": 77,
   "metadata": {},
   "outputs": [
    {
     "data": {
      "application/javascript": [
       "/* Put everything inside the global mpl namespace */\n",
       "window.mpl = {};\n",
       "\n",
       "\n",
       "mpl.get_websocket_type = function() {\n",
       "    if (typeof(WebSocket) !== 'undefined') {\n",
       "        return WebSocket;\n",
       "    } else if (typeof(MozWebSocket) !== 'undefined') {\n",
       "        return MozWebSocket;\n",
       "    } else {\n",
       "        alert('Your browser does not have WebSocket support.' +\n",
       "              'Please try Chrome, Safari or Firefox ≥ 6. ' +\n",
       "              'Firefox 4 and 5 are also supported but you ' +\n",
       "              'have to enable WebSockets in about:config.');\n",
       "    };\n",
       "}\n",
       "\n",
       "mpl.figure = function(figure_id, websocket, ondownload, parent_element) {\n",
       "    this.id = figure_id;\n",
       "\n",
       "    this.ws = websocket;\n",
       "\n",
       "    this.supports_binary = (this.ws.binaryType != undefined);\n",
       "\n",
       "    if (!this.supports_binary) {\n",
       "        var warnings = document.getElementById(\"mpl-warnings\");\n",
       "        if (warnings) {\n",
       "            warnings.style.display = 'block';\n",
       "            warnings.textContent = (\n",
       "                \"This browser does not support binary websocket messages. \" +\n",
       "                    \"Performance may be slow.\");\n",
       "        }\n",
       "    }\n",
       "\n",
       "    this.imageObj = new Image();\n",
       "\n",
       "    this.context = undefined;\n",
       "    this.message = undefined;\n",
       "    this.canvas = undefined;\n",
       "    this.rubberband_canvas = undefined;\n",
       "    this.rubberband_context = undefined;\n",
       "    this.format_dropdown = undefined;\n",
       "\n",
       "    this.image_mode = 'full';\n",
       "\n",
       "    this.root = $('<div/>');\n",
       "    this._root_extra_style(this.root)\n",
       "    this.root.attr('style', 'display: inline-block');\n",
       "\n",
       "    $(parent_element).append(this.root);\n",
       "\n",
       "    this._init_header(this);\n",
       "    this._init_canvas(this);\n",
       "    this._init_toolbar(this);\n",
       "\n",
       "    var fig = this;\n",
       "\n",
       "    this.waiting = false;\n",
       "\n",
       "    this.ws.onopen =  function () {\n",
       "            fig.send_message(\"supports_binary\", {value: fig.supports_binary});\n",
       "            fig.send_message(\"send_image_mode\", {});\n",
       "            if (mpl.ratio != 1) {\n",
       "                fig.send_message(\"set_dpi_ratio\", {'dpi_ratio': mpl.ratio});\n",
       "            }\n",
       "            fig.send_message(\"refresh\", {});\n",
       "        }\n",
       "\n",
       "    this.imageObj.onload = function() {\n",
       "            if (fig.image_mode == 'full') {\n",
       "                // Full images could contain transparency (where diff images\n",
       "                // almost always do), so we need to clear the canvas so that\n",
       "                // there is no ghosting.\n",
       "                fig.context.clearRect(0, 0, fig.canvas.width, fig.canvas.height);\n",
       "            }\n",
       "            fig.context.drawImage(fig.imageObj, 0, 0);\n",
       "        };\n",
       "\n",
       "    this.imageObj.onunload = function() {\n",
       "        fig.ws.close();\n",
       "    }\n",
       "\n",
       "    this.ws.onmessage = this._make_on_message_function(this);\n",
       "\n",
       "    this.ondownload = ondownload;\n",
       "}\n",
       "\n",
       "mpl.figure.prototype._init_header = function() {\n",
       "    var titlebar = $(\n",
       "        '<div class=\"ui-dialog-titlebar ui-widget-header ui-corner-all ' +\n",
       "        'ui-helper-clearfix\"/>');\n",
       "    var titletext = $(\n",
       "        '<div class=\"ui-dialog-title\" style=\"width: 100%; ' +\n",
       "        'text-align: center; padding: 3px;\"/>');\n",
       "    titlebar.append(titletext)\n",
       "    this.root.append(titlebar);\n",
       "    this.header = titletext[0];\n",
       "}\n",
       "\n",
       "\n",
       "\n",
       "mpl.figure.prototype._canvas_extra_style = function(canvas_div) {\n",
       "\n",
       "}\n",
       "\n",
       "\n",
       "mpl.figure.prototype._root_extra_style = function(canvas_div) {\n",
       "\n",
       "}\n",
       "\n",
       "mpl.figure.prototype._init_canvas = function() {\n",
       "    var fig = this;\n",
       "\n",
       "    var canvas_div = $('<div/>');\n",
       "\n",
       "    canvas_div.attr('style', 'position: relative; clear: both; outline: 0');\n",
       "\n",
       "    function canvas_keyboard_event(event) {\n",
       "        return fig.key_event(event, event['data']);\n",
       "    }\n",
       "\n",
       "    canvas_div.keydown('key_press', canvas_keyboard_event);\n",
       "    canvas_div.keyup('key_release', canvas_keyboard_event);\n",
       "    this.canvas_div = canvas_div\n",
       "    this._canvas_extra_style(canvas_div)\n",
       "    this.root.append(canvas_div);\n",
       "\n",
       "    var canvas = $('<canvas/>');\n",
       "    canvas.addClass('mpl-canvas');\n",
       "    canvas.attr('style', \"left: 0; top: 0; z-index: 0; outline: 0\")\n",
       "\n",
       "    this.canvas = canvas[0];\n",
       "    this.context = canvas[0].getContext(\"2d\");\n",
       "\n",
       "    var backingStore = this.context.backingStorePixelRatio ||\n",
       "\tthis.context.webkitBackingStorePixelRatio ||\n",
       "\tthis.context.mozBackingStorePixelRatio ||\n",
       "\tthis.context.msBackingStorePixelRatio ||\n",
       "\tthis.context.oBackingStorePixelRatio ||\n",
       "\tthis.context.backingStorePixelRatio || 1;\n",
       "\n",
       "    mpl.ratio = (window.devicePixelRatio || 1) / backingStore;\n",
       "\n",
       "    var rubberband = $('<canvas/>');\n",
       "    rubberband.attr('style', \"position: absolute; left: 0; top: 0; z-index: 1;\")\n",
       "\n",
       "    var pass_mouse_events = true;\n",
       "\n",
       "    canvas_div.resizable({\n",
       "        start: function(event, ui) {\n",
       "            pass_mouse_events = false;\n",
       "        },\n",
       "        resize: function(event, ui) {\n",
       "            fig.request_resize(ui.size.width, ui.size.height);\n",
       "        },\n",
       "        stop: function(event, ui) {\n",
       "            pass_mouse_events = true;\n",
       "            fig.request_resize(ui.size.width, ui.size.height);\n",
       "        },\n",
       "    });\n",
       "\n",
       "    function mouse_event_fn(event) {\n",
       "        if (pass_mouse_events)\n",
       "            return fig.mouse_event(event, event['data']);\n",
       "    }\n",
       "\n",
       "    rubberband.mousedown('button_press', mouse_event_fn);\n",
       "    rubberband.mouseup('button_release', mouse_event_fn);\n",
       "    // Throttle sequential mouse events to 1 every 20ms.\n",
       "    rubberband.mousemove('motion_notify', mouse_event_fn);\n",
       "\n",
       "    rubberband.mouseenter('figure_enter', mouse_event_fn);\n",
       "    rubberband.mouseleave('figure_leave', mouse_event_fn);\n",
       "\n",
       "    canvas_div.on(\"wheel\", function (event) {\n",
       "        event = event.originalEvent;\n",
       "        event['data'] = 'scroll'\n",
       "        if (event.deltaY < 0) {\n",
       "            event.step = 1;\n",
       "        } else {\n",
       "            event.step = -1;\n",
       "        }\n",
       "        mouse_event_fn(event);\n",
       "    });\n",
       "\n",
       "    canvas_div.append(canvas);\n",
       "    canvas_div.append(rubberband);\n",
       "\n",
       "    this.rubberband = rubberband;\n",
       "    this.rubberband_canvas = rubberband[0];\n",
       "    this.rubberband_context = rubberband[0].getContext(\"2d\");\n",
       "    this.rubberband_context.strokeStyle = \"#000000\";\n",
       "\n",
       "    this._resize_canvas = function(width, height) {\n",
       "        // Keep the size of the canvas, canvas container, and rubber band\n",
       "        // canvas in synch.\n",
       "        canvas_div.css('width', width)\n",
       "        canvas_div.css('height', height)\n",
       "\n",
       "        canvas.attr('width', width * mpl.ratio);\n",
       "        canvas.attr('height', height * mpl.ratio);\n",
       "        canvas.attr('style', 'width: ' + width + 'px; height: ' + height + 'px;');\n",
       "\n",
       "        rubberband.attr('width', width);\n",
       "        rubberband.attr('height', height);\n",
       "    }\n",
       "\n",
       "    // Set the figure to an initial 600x600px, this will subsequently be updated\n",
       "    // upon first draw.\n",
       "    this._resize_canvas(600, 600);\n",
       "\n",
       "    // Disable right mouse context menu.\n",
       "    $(this.rubberband_canvas).bind(\"contextmenu\",function(e){\n",
       "        return false;\n",
       "    });\n",
       "\n",
       "    function set_focus () {\n",
       "        canvas.focus();\n",
       "        canvas_div.focus();\n",
       "    }\n",
       "\n",
       "    window.setTimeout(set_focus, 100);\n",
       "}\n",
       "\n",
       "mpl.figure.prototype._init_toolbar = function() {\n",
       "    var fig = this;\n",
       "\n",
       "    var nav_element = $('<div/>')\n",
       "    nav_element.attr('style', 'width: 100%');\n",
       "    this.root.append(nav_element);\n",
       "\n",
       "    // Define a callback function for later on.\n",
       "    function toolbar_event(event) {\n",
       "        return fig.toolbar_button_onclick(event['data']);\n",
       "    }\n",
       "    function toolbar_mouse_event(event) {\n",
       "        return fig.toolbar_button_onmouseover(event['data']);\n",
       "    }\n",
       "\n",
       "    for(var toolbar_ind in mpl.toolbar_items) {\n",
       "        var name = mpl.toolbar_items[toolbar_ind][0];\n",
       "        var tooltip = mpl.toolbar_items[toolbar_ind][1];\n",
       "        var image = mpl.toolbar_items[toolbar_ind][2];\n",
       "        var method_name = mpl.toolbar_items[toolbar_ind][3];\n",
       "\n",
       "        if (!name) {\n",
       "            // put a spacer in here.\n",
       "            continue;\n",
       "        }\n",
       "        var button = $('<button/>');\n",
       "        button.addClass('ui-button ui-widget ui-state-default ui-corner-all ' +\n",
       "                        'ui-button-icon-only');\n",
       "        button.attr('role', 'button');\n",
       "        button.attr('aria-disabled', 'false');\n",
       "        button.click(method_name, toolbar_event);\n",
       "        button.mouseover(tooltip, toolbar_mouse_event);\n",
       "\n",
       "        var icon_img = $('<span/>');\n",
       "        icon_img.addClass('ui-button-icon-primary ui-icon');\n",
       "        icon_img.addClass(image);\n",
       "        icon_img.addClass('ui-corner-all');\n",
       "\n",
       "        var tooltip_span = $('<span/>');\n",
       "        tooltip_span.addClass('ui-button-text');\n",
       "        tooltip_span.html(tooltip);\n",
       "\n",
       "        button.append(icon_img);\n",
       "        button.append(tooltip_span);\n",
       "\n",
       "        nav_element.append(button);\n",
       "    }\n",
       "\n",
       "    var fmt_picker_span = $('<span/>');\n",
       "\n",
       "    var fmt_picker = $('<select/>');\n",
       "    fmt_picker.addClass('mpl-toolbar-option ui-widget ui-widget-content');\n",
       "    fmt_picker_span.append(fmt_picker);\n",
       "    nav_element.append(fmt_picker_span);\n",
       "    this.format_dropdown = fmt_picker[0];\n",
       "\n",
       "    for (var ind in mpl.extensions) {\n",
       "        var fmt = mpl.extensions[ind];\n",
       "        var option = $(\n",
       "            '<option/>', {selected: fmt === mpl.default_extension}).html(fmt);\n",
       "        fmt_picker.append(option)\n",
       "    }\n",
       "\n",
       "    // Add hover states to the ui-buttons\n",
       "    $( \".ui-button\" ).hover(\n",
       "        function() { $(this).addClass(\"ui-state-hover\");},\n",
       "        function() { $(this).removeClass(\"ui-state-hover\");}\n",
       "    );\n",
       "\n",
       "    var status_bar = $('<span class=\"mpl-message\"/>');\n",
       "    nav_element.append(status_bar);\n",
       "    this.message = status_bar[0];\n",
       "}\n",
       "\n",
       "mpl.figure.prototype.request_resize = function(x_pixels, y_pixels) {\n",
       "    // Request matplotlib to resize the figure. Matplotlib will then trigger a resize in the client,\n",
       "    // which will in turn request a refresh of the image.\n",
       "    this.send_message('resize', {'width': x_pixels, 'height': y_pixels});\n",
       "}\n",
       "\n",
       "mpl.figure.prototype.send_message = function(type, properties) {\n",
       "    properties['type'] = type;\n",
       "    properties['figure_id'] = this.id;\n",
       "    this.ws.send(JSON.stringify(properties));\n",
       "}\n",
       "\n",
       "mpl.figure.prototype.send_draw_message = function() {\n",
       "    if (!this.waiting) {\n",
       "        this.waiting = true;\n",
       "        this.ws.send(JSON.stringify({type: \"draw\", figure_id: this.id}));\n",
       "    }\n",
       "}\n",
       "\n",
       "\n",
       "mpl.figure.prototype.handle_save = function(fig, msg) {\n",
       "    var format_dropdown = fig.format_dropdown;\n",
       "    var format = format_dropdown.options[format_dropdown.selectedIndex].value;\n",
       "    fig.ondownload(fig, format);\n",
       "}\n",
       "\n",
       "\n",
       "mpl.figure.prototype.handle_resize = function(fig, msg) {\n",
       "    var size = msg['size'];\n",
       "    if (size[0] != fig.canvas.width || size[1] != fig.canvas.height) {\n",
       "        fig._resize_canvas(size[0], size[1]);\n",
       "        fig.send_message(\"refresh\", {});\n",
       "    };\n",
       "}\n",
       "\n",
       "mpl.figure.prototype.handle_rubberband = function(fig, msg) {\n",
       "    var x0 = msg['x0'] / mpl.ratio;\n",
       "    var y0 = (fig.canvas.height - msg['y0']) / mpl.ratio;\n",
       "    var x1 = msg['x1'] / mpl.ratio;\n",
       "    var y1 = (fig.canvas.height - msg['y1']) / mpl.ratio;\n",
       "    x0 = Math.floor(x0) + 0.5;\n",
       "    y0 = Math.floor(y0) + 0.5;\n",
       "    x1 = Math.floor(x1) + 0.5;\n",
       "    y1 = Math.floor(y1) + 0.5;\n",
       "    var min_x = Math.min(x0, x1);\n",
       "    var min_y = Math.min(y0, y1);\n",
       "    var width = Math.abs(x1 - x0);\n",
       "    var height = Math.abs(y1 - y0);\n",
       "\n",
       "    fig.rubberband_context.clearRect(\n",
       "        0, 0, fig.canvas.width, fig.canvas.height);\n",
       "\n",
       "    fig.rubberband_context.strokeRect(min_x, min_y, width, height);\n",
       "}\n",
       "\n",
       "mpl.figure.prototype.handle_figure_label = function(fig, msg) {\n",
       "    // Updates the figure title.\n",
       "    fig.header.textContent = msg['label'];\n",
       "}\n",
       "\n",
       "mpl.figure.prototype.handle_cursor = function(fig, msg) {\n",
       "    var cursor = msg['cursor'];\n",
       "    switch(cursor)\n",
       "    {\n",
       "    case 0:\n",
       "        cursor = 'pointer';\n",
       "        break;\n",
       "    case 1:\n",
       "        cursor = 'default';\n",
       "        break;\n",
       "    case 2:\n",
       "        cursor = 'crosshair';\n",
       "        break;\n",
       "    case 3:\n",
       "        cursor = 'move';\n",
       "        break;\n",
       "    }\n",
       "    fig.rubberband_canvas.style.cursor = cursor;\n",
       "}\n",
       "\n",
       "mpl.figure.prototype.handle_message = function(fig, msg) {\n",
       "    fig.message.textContent = msg['message'];\n",
       "}\n",
       "\n",
       "mpl.figure.prototype.handle_draw = function(fig, msg) {\n",
       "    // Request the server to send over a new figure.\n",
       "    fig.send_draw_message();\n",
       "}\n",
       "\n",
       "mpl.figure.prototype.handle_image_mode = function(fig, msg) {\n",
       "    fig.image_mode = msg['mode'];\n",
       "}\n",
       "\n",
       "mpl.figure.prototype.updated_canvas_event = function() {\n",
       "    // Called whenever the canvas gets updated.\n",
       "    this.send_message(\"ack\", {});\n",
       "}\n",
       "\n",
       "// A function to construct a web socket function for onmessage handling.\n",
       "// Called in the figure constructor.\n",
       "mpl.figure.prototype._make_on_message_function = function(fig) {\n",
       "    return function socket_on_message(evt) {\n",
       "        if (evt.data instanceof Blob) {\n",
       "            /* FIXME: We get \"Resource interpreted as Image but\n",
       "             * transferred with MIME type text/plain:\" errors on\n",
       "             * Chrome.  But how to set the MIME type?  It doesn't seem\n",
       "             * to be part of the websocket stream */\n",
       "            evt.data.type = \"image/png\";\n",
       "\n",
       "            /* Free the memory for the previous frames */\n",
       "            if (fig.imageObj.src) {\n",
       "                (window.URL || window.webkitURL).revokeObjectURL(\n",
       "                    fig.imageObj.src);\n",
       "            }\n",
       "\n",
       "            fig.imageObj.src = (window.URL || window.webkitURL).createObjectURL(\n",
       "                evt.data);\n",
       "            fig.updated_canvas_event();\n",
       "            fig.waiting = false;\n",
       "            return;\n",
       "        }\n",
       "        else if (typeof evt.data === 'string' && evt.data.slice(0, 21) == \"data:image/png;base64\") {\n",
       "            fig.imageObj.src = evt.data;\n",
       "            fig.updated_canvas_event();\n",
       "            fig.waiting = false;\n",
       "            return;\n",
       "        }\n",
       "\n",
       "        var msg = JSON.parse(evt.data);\n",
       "        var msg_type = msg['type'];\n",
       "\n",
       "        // Call the  \"handle_{type}\" callback, which takes\n",
       "        // the figure and JSON message as its only arguments.\n",
       "        try {\n",
       "            var callback = fig[\"handle_\" + msg_type];\n",
       "        } catch (e) {\n",
       "            console.log(\"No handler for the '\" + msg_type + \"' message type: \", msg);\n",
       "            return;\n",
       "        }\n",
       "\n",
       "        if (callback) {\n",
       "            try {\n",
       "                // console.log(\"Handling '\" + msg_type + \"' message: \", msg);\n",
       "                callback(fig, msg);\n",
       "            } catch (e) {\n",
       "                console.log(\"Exception inside the 'handler_\" + msg_type + \"' callback:\", e, e.stack, msg);\n",
       "            }\n",
       "        }\n",
       "    };\n",
       "}\n",
       "\n",
       "// from http://stackoverflow.com/questions/1114465/getting-mouse-location-in-canvas\n",
       "mpl.findpos = function(e) {\n",
       "    //this section is from http://www.quirksmode.org/js/events_properties.html\n",
       "    var targ;\n",
       "    if (!e)\n",
       "        e = window.event;\n",
       "    if (e.target)\n",
       "        targ = e.target;\n",
       "    else if (e.srcElement)\n",
       "        targ = e.srcElement;\n",
       "    if (targ.nodeType == 3) // defeat Safari bug\n",
       "        targ = targ.parentNode;\n",
       "\n",
       "    // jQuery normalizes the pageX and pageY\n",
       "    // pageX,Y are the mouse positions relative to the document\n",
       "    // offset() returns the position of the element relative to the document\n",
       "    var x = e.pageX - $(targ).offset().left;\n",
       "    var y = e.pageY - $(targ).offset().top;\n",
       "\n",
       "    return {\"x\": x, \"y\": y};\n",
       "};\n",
       "\n",
       "/*\n",
       " * return a copy of an object with only non-object keys\n",
       " * we need this to avoid circular references\n",
       " * http://stackoverflow.com/a/24161582/3208463\n",
       " */\n",
       "function simpleKeys (original) {\n",
       "  return Object.keys(original).reduce(function (obj, key) {\n",
       "    if (typeof original[key] !== 'object')\n",
       "        obj[key] = original[key]\n",
       "    return obj;\n",
       "  }, {});\n",
       "}\n",
       "\n",
       "mpl.figure.prototype.mouse_event = function(event, name) {\n",
       "    var canvas_pos = mpl.findpos(event)\n",
       "\n",
       "    if (name === 'button_press')\n",
       "    {\n",
       "        this.canvas.focus();\n",
       "        this.canvas_div.focus();\n",
       "    }\n",
       "\n",
       "    var x = canvas_pos.x * mpl.ratio;\n",
       "    var y = canvas_pos.y * mpl.ratio;\n",
       "\n",
       "    this.send_message(name, {x: x, y: y, button: event.button,\n",
       "                             step: event.step,\n",
       "                             guiEvent: simpleKeys(event)});\n",
       "\n",
       "    /* This prevents the web browser from automatically changing to\n",
       "     * the text insertion cursor when the button is pressed.  We want\n",
       "     * to control all of the cursor setting manually through the\n",
       "     * 'cursor' event from matplotlib */\n",
       "    event.preventDefault();\n",
       "    return false;\n",
       "}\n",
       "\n",
       "mpl.figure.prototype._key_event_extra = function(event, name) {\n",
       "    // Handle any extra behaviour associated with a key event\n",
       "}\n",
       "\n",
       "mpl.figure.prototype.key_event = function(event, name) {\n",
       "\n",
       "    // Prevent repeat events\n",
       "    if (name == 'key_press')\n",
       "    {\n",
       "        if (event.which === this._key)\n",
       "            return;\n",
       "        else\n",
       "            this._key = event.which;\n",
       "    }\n",
       "    if (name == 'key_release')\n",
       "        this._key = null;\n",
       "\n",
       "    var value = '';\n",
       "    if (event.ctrlKey && event.which != 17)\n",
       "        value += \"ctrl+\";\n",
       "    if (event.altKey && event.which != 18)\n",
       "        value += \"alt+\";\n",
       "    if (event.shiftKey && event.which != 16)\n",
       "        value += \"shift+\";\n",
       "\n",
       "    value += 'k';\n",
       "    value += event.which.toString();\n",
       "\n",
       "    this._key_event_extra(event, name);\n",
       "\n",
       "    this.send_message(name, {key: value,\n",
       "                             guiEvent: simpleKeys(event)});\n",
       "    return false;\n",
       "}\n",
       "\n",
       "mpl.figure.prototype.toolbar_button_onclick = function(name) {\n",
       "    if (name == 'download') {\n",
       "        this.handle_save(this, null);\n",
       "    } else {\n",
       "        this.send_message(\"toolbar_button\", {name: name});\n",
       "    }\n",
       "};\n",
       "\n",
       "mpl.figure.prototype.toolbar_button_onmouseover = function(tooltip) {\n",
       "    this.message.textContent = tooltip;\n",
       "};\n",
       "mpl.toolbar_items = [[\"Home\", \"Reset original view\", \"fa fa-home icon-home\", \"home\"], [\"Back\", \"Back to previous view\", \"fa fa-arrow-left icon-arrow-left\", \"back\"], [\"Forward\", \"Forward to next view\", \"fa fa-arrow-right icon-arrow-right\", \"forward\"], [\"\", \"\", \"\", \"\"], [\"Pan\", \"Pan axes with left mouse, zoom with right\", \"fa fa-arrows icon-move\", \"pan\"], [\"Zoom\", \"Zoom to rectangle\", \"fa fa-square-o icon-check-empty\", \"zoom\"], [\"\", \"\", \"\", \"\"], [\"Download\", \"Download plot\", \"fa fa-floppy-o icon-save\", \"download\"]];\n",
       "\n",
       "mpl.extensions = [\"eps\", \"pdf\", \"png\", \"ps\", \"raw\", \"svg\"];\n",
       "\n",
       "mpl.default_extension = \"png\";var comm_websocket_adapter = function(comm) {\n",
       "    // Create a \"websocket\"-like object which calls the given IPython comm\n",
       "    // object with the appropriate methods. Currently this is a non binary\n",
       "    // socket, so there is still some room for performance tuning.\n",
       "    var ws = {};\n",
       "\n",
       "    ws.close = function() {\n",
       "        comm.close()\n",
       "    };\n",
       "    ws.send = function(m) {\n",
       "        //console.log('sending', m);\n",
       "        comm.send(m);\n",
       "    };\n",
       "    // Register the callback with on_msg.\n",
       "    comm.on_msg(function(msg) {\n",
       "        //console.log('receiving', msg['content']['data'], msg);\n",
       "        // Pass the mpl event to the overridden (by mpl) onmessage function.\n",
       "        ws.onmessage(msg['content']['data'])\n",
       "    });\n",
       "    return ws;\n",
       "}\n",
       "\n",
       "mpl.mpl_figure_comm = function(comm, msg) {\n",
       "    // This is the function which gets called when the mpl process\n",
       "    // starts-up an IPython Comm through the \"matplotlib\" channel.\n",
       "\n",
       "    var id = msg.content.data.id;\n",
       "    // Get hold of the div created by the display call when the Comm\n",
       "    // socket was opened in Python.\n",
       "    var element = $(\"#\" + id);\n",
       "    var ws_proxy = comm_websocket_adapter(comm)\n",
       "\n",
       "    function ondownload(figure, format) {\n",
       "        window.open(figure.imageObj.src);\n",
       "    }\n",
       "\n",
       "    var fig = new mpl.figure(id, ws_proxy,\n",
       "                           ondownload,\n",
       "                           element.get(0));\n",
       "\n",
       "    // Call onopen now - mpl needs it, as it is assuming we've passed it a real\n",
       "    // web socket which is closed, not our websocket->open comm proxy.\n",
       "    ws_proxy.onopen();\n",
       "\n",
       "    fig.parent_element = element.get(0);\n",
       "    fig.cell_info = mpl.find_output_cell(\"<div id='\" + id + \"'></div>\");\n",
       "    if (!fig.cell_info) {\n",
       "        console.error(\"Failed to find cell for figure\", id, fig);\n",
       "        return;\n",
       "    }\n",
       "\n",
       "    var output_index = fig.cell_info[2]\n",
       "    var cell = fig.cell_info[0];\n",
       "\n",
       "};\n",
       "\n",
       "mpl.figure.prototype.handle_close = function(fig, msg) {\n",
       "    var width = fig.canvas.width/mpl.ratio\n",
       "    fig.root.unbind('remove')\n",
       "\n",
       "    // Update the output cell to use the data from the current canvas.\n",
       "    fig.push_to_output();\n",
       "    var dataURL = fig.canvas.toDataURL();\n",
       "    // Re-enable the keyboard manager in IPython - without this line, in FF,\n",
       "    // the notebook keyboard shortcuts fail.\n",
       "    IPython.keyboard_manager.enable()\n",
       "    $(fig.parent_element).html('<img src=\"' + dataURL + '\" width=\"' + width + '\">');\n",
       "    fig.close_ws(fig, msg);\n",
       "}\n",
       "\n",
       "mpl.figure.prototype.close_ws = function(fig, msg){\n",
       "    fig.send_message('closing', msg);\n",
       "    // fig.ws.close()\n",
       "}\n",
       "\n",
       "mpl.figure.prototype.push_to_output = function(remove_interactive) {\n",
       "    // Turn the data on the canvas into data in the output cell.\n",
       "    var width = this.canvas.width/mpl.ratio\n",
       "    var dataURL = this.canvas.toDataURL();\n",
       "    this.cell_info[1]['text/html'] = '<img src=\"' + dataURL + '\" width=\"' + width + '\">';\n",
       "}\n",
       "\n",
       "mpl.figure.prototype.updated_canvas_event = function() {\n",
       "    // Tell IPython that the notebook contents must change.\n",
       "    IPython.notebook.set_dirty(true);\n",
       "    this.send_message(\"ack\", {});\n",
       "    var fig = this;\n",
       "    // Wait a second, then push the new image to the DOM so\n",
       "    // that it is saved nicely (might be nice to debounce this).\n",
       "    setTimeout(function () { fig.push_to_output() }, 1000);\n",
       "}\n",
       "\n",
       "mpl.figure.prototype._init_toolbar = function() {\n",
       "    var fig = this;\n",
       "\n",
       "    var nav_element = $('<div/>')\n",
       "    nav_element.attr('style', 'width: 100%');\n",
       "    this.root.append(nav_element);\n",
       "\n",
       "    // Define a callback function for later on.\n",
       "    function toolbar_event(event) {\n",
       "        return fig.toolbar_button_onclick(event['data']);\n",
       "    }\n",
       "    function toolbar_mouse_event(event) {\n",
       "        return fig.toolbar_button_onmouseover(event['data']);\n",
       "    }\n",
       "\n",
       "    for(var toolbar_ind in mpl.toolbar_items){\n",
       "        var name = mpl.toolbar_items[toolbar_ind][0];\n",
       "        var tooltip = mpl.toolbar_items[toolbar_ind][1];\n",
       "        var image = mpl.toolbar_items[toolbar_ind][2];\n",
       "        var method_name = mpl.toolbar_items[toolbar_ind][3];\n",
       "\n",
       "        if (!name) { continue; };\n",
       "\n",
       "        var button = $('<button class=\"btn btn-default\" href=\"#\" title=\"' + name + '\"><i class=\"fa ' + image + ' fa-lg\"></i></button>');\n",
       "        button.click(method_name, toolbar_event);\n",
       "        button.mouseover(tooltip, toolbar_mouse_event);\n",
       "        nav_element.append(button);\n",
       "    }\n",
       "\n",
       "    // Add the status bar.\n",
       "    var status_bar = $('<span class=\"mpl-message\" style=\"text-align:right; float: right;\"/>');\n",
       "    nav_element.append(status_bar);\n",
       "    this.message = status_bar[0];\n",
       "\n",
       "    // Add the close button to the window.\n",
       "    var buttongrp = $('<div class=\"btn-group inline pull-right\"></div>');\n",
       "    var button = $('<button class=\"btn btn-mini btn-primary\" href=\"#\" title=\"Stop Interaction\"><i class=\"fa fa-power-off icon-remove icon-large\"></i></button>');\n",
       "    button.click(function (evt) { fig.handle_close(fig, {}); } );\n",
       "    button.mouseover('Stop Interaction', toolbar_mouse_event);\n",
       "    buttongrp.append(button);\n",
       "    var titlebar = this.root.find($('.ui-dialog-titlebar'));\n",
       "    titlebar.prepend(buttongrp);\n",
       "}\n",
       "\n",
       "mpl.figure.prototype._root_extra_style = function(el){\n",
       "    var fig = this\n",
       "    el.on(\"remove\", function(){\n",
       "\tfig.close_ws(fig, {});\n",
       "    });\n",
       "}\n",
       "\n",
       "mpl.figure.prototype._canvas_extra_style = function(el){\n",
       "    // this is important to make the div 'focusable\n",
       "    el.attr('tabindex', 0)\n",
       "    // reach out to IPython and tell the keyboard manager to turn it's self\n",
       "    // off when our div gets focus\n",
       "\n",
       "    // location in version 3\n",
       "    if (IPython.notebook.keyboard_manager) {\n",
       "        IPython.notebook.keyboard_manager.register_events(el);\n",
       "    }\n",
       "    else {\n",
       "        // location in version 2\n",
       "        IPython.keyboard_manager.register_events(el);\n",
       "    }\n",
       "\n",
       "}\n",
       "\n",
       "mpl.figure.prototype._key_event_extra = function(event, name) {\n",
       "    var manager = IPython.notebook.keyboard_manager;\n",
       "    if (!manager)\n",
       "        manager = IPython.keyboard_manager;\n",
       "\n",
       "    // Check for shift+enter\n",
       "    if (event.shiftKey && event.which == 13) {\n",
       "        this.canvas_div.blur();\n",
       "        event.shiftKey = false;\n",
       "        // Send a \"J\" for go to next cell\n",
       "        event.which = 74;\n",
       "        event.keyCode = 74;\n",
       "        manager.command_mode();\n",
       "        manager.handle_keydown(event);\n",
       "    }\n",
       "}\n",
       "\n",
       "mpl.figure.prototype.handle_save = function(fig, msg) {\n",
       "    fig.ondownload(fig, null);\n",
       "}\n",
       "\n",
       "\n",
       "mpl.find_output_cell = function(html_output) {\n",
       "    // Return the cell and output element which can be found *uniquely* in the notebook.\n",
       "    // Note - this is a bit hacky, but it is done because the \"notebook_saving.Notebook\"\n",
       "    // IPython event is triggered only after the cells have been serialised, which for\n",
       "    // our purposes (turning an active figure into a static one), is too late.\n",
       "    var cells = IPython.notebook.get_cells();\n",
       "    var ncells = cells.length;\n",
       "    for (var i=0; i<ncells; i++) {\n",
       "        var cell = cells[i];\n",
       "        if (cell.cell_type === 'code'){\n",
       "            for (var j=0; j<cell.output_area.outputs.length; j++) {\n",
       "                var data = cell.output_area.outputs[j];\n",
       "                if (data.data) {\n",
       "                    // IPython >= 3 moved mimebundle to data attribute of output\n",
       "                    data = data.data;\n",
       "                }\n",
       "                if (data['text/html'] == html_output) {\n",
       "                    return [cell, data, j];\n",
       "                }\n",
       "            }\n",
       "        }\n",
       "    }\n",
       "}\n",
       "\n",
       "// Register the function which deals with the matplotlib target/channel.\n",
       "// The kernel may be null if the page has been refreshed.\n",
       "if (IPython.notebook.kernel != null) {\n",
       "    IPython.notebook.kernel.comm_manager.register_target('matplotlib', mpl.mpl_figure_comm);\n",
       "}\n"
      ],
      "text/plain": [
       "<IPython.core.display.Javascript object>"
      ]
     },
     "metadata": {},
     "output_type": "display_data"
    },
    {
     "data": {
      "text/html": [
       "<img src=\"data:image/png;base64,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\" width=\"948.1817976305312\">"
      ],
      "text/plain": [
       "<IPython.core.display.HTML object>"
      ]
     },
     "metadata": {},
     "output_type": "display_data"
    }
   ],
   "source": [
    "plt.figure(figsize=(8,4), dpi=80, facecolor='w', edgecolor='k')\n",
    "plt.plot(y_test,color=\"r\",label=\"true result\")\n",
    "plt.plot(predict,color=\"b\",label=\"predicted result\")\n",
    "plt.legend()\n",
    "plt.xlabel(\"Time(50 days)\")\n",
    "plt.ylabel(\"Close Values\")\n",
    "plt.grid(True)\n",
    "plt.show()"
   ]
  },
  {
   "cell_type": "code",
   "execution_count": 78,
   "metadata": {},
   "outputs": [
    {
     "data": {
      "text/plain": [
       "0.7266893782166677"
      ]
     },
     "execution_count": 78,
     "metadata": {},
     "output_type": "execute_result"
    }
   ],
   "source": [
    "mean_absolute_error(y_pred=predict, y_true=y_test)"
   ]
  },
  {
   "cell_type": "code",
   "execution_count": 79,
   "metadata": {},
   "outputs": [
    {
     "data": {
      "text/plain": [
       "0.206"
      ]
     },
     "execution_count": 79,
     "metadata": {},
     "output_type": "execute_result"
    }
   ],
   "source": [
    "y_test.min()"
   ]
  },
  {
   "cell_type": "code",
   "execution_count": 80,
   "metadata": {},
   "outputs": [
    {
     "data": {
      "text/plain": [
       "0.22459438"
      ]
     },
     "execution_count": 80,
     "metadata": {},
     "output_type": "execute_result"
    }
   ],
   "source": [
    "predict.min()"
   ]
  },
  {
   "cell_type": "code",
   "execution_count": 81,
   "metadata": {},
   "outputs": [
    {
     "data": {
      "text/plain": [
       "0.996154824563016"
      ]
     },
     "execution_count": 81,
     "metadata": {},
     "output_type": "execute_result"
    }
   ],
   "source": [
    "mean_squared_error(y_pred=predict, y_true=y_test)"
   ]
  },
  {
   "cell_type": "code",
   "execution_count": null,
   "metadata": {},
   "outputs": [],
   "source": []
  }
 ],
 "metadata": {
  "kernelspec": {
   "display_name": "Python 3",
   "language": "python",
   "name": "python3"
  },
  "language_info": {
   "codemirror_mode": {
    "name": "ipython",
    "version": 3
   },
   "file_extension": ".py",
   "mimetype": "text/x-python",
   "name": "python",
   "nbconvert_exporter": "python",
   "pygments_lexer": "ipython3",
   "version": "3.6.6"
  }
 },
 "nbformat": 4,
 "nbformat_minor": 2
}
